{
 "cells": [
  {
   "cell_type": "code",
   "execution_count": null,
   "metadata": {
    "collapsed": true
   },
   "outputs": [],
   "source": [
    "#export\n",
    "import torch.nn as nn\n",
    "from Functions import *"
   ]
  },
  {
   "cell_type": "code",
   "execution_count": null,
   "metadata": {
    "collapsed": true
   },
   "outputs": [],
   "source": [
    "# Load all the data from the CSV file \n",
    "PT_DATA_PATH = \"../../../Dataset/Botnet_Detection/PT_838_Security Camera\"\n",
    "PT2_DATA_PATH = \"../../../Dataset/Botnet_Detection/PT737E_Security Camera\"\n",
    "XC_DATA_PATH = \"../../../Dataset/Botnet_Detection/XCS7_1002_WHT_Security_Camera\"\n",
    "XC2_DATA_PATH = \"../../../Dataset/Botnet_Detection/XCS7_1003_WHT_Security_Camera\"\n",
    "df_pt_1 = pd.read_csv(PT_DATA_PATH+\"/benign_traffic.csv\")\n",
    "df_pt_2 = pd.read_csv(PT2_DATA_PATH+\"/benign_traffic.csv\")\n",
    "df_xc_1 =  pd.read_csv(XC_DATA_PATH+\"/benign_traffic.csv\")\n",
    "df_xc_2 =  pd.read_csv(XC2_DATA_PATH+\"/benign_traffic.csv\")"
   ]
  },
  {
   "cell_type": "code",
   "execution_count": null,
   "metadata": {
    "collapsed": true
   },
   "outputs": [],
   "source": [
    "df_pt1 = df_pt_1.assign(label = 'pt1')\n",
    "df_pt2 = df_pt_2.assign(label = 'pt2')\n",
    "df_xc1 = df_xc_1.assign(label = 'xc1')\n",
    "df_xc2 = df_xc_2.assign(label = 'xc2')"
   ]
  },
  {
   "cell_type": "markdown",
   "metadata": {},
   "source": [
    "## Prepare for OMP"
   ]
  },
  {
   "cell_type": "code",
   "execution_count": null,
   "metadata": {
    "collapsed": true
   },
   "outputs": [],
   "source": [
    "df_all = df_pt1\n",
    "#df_all = df_all.append(df_pt2, ignore_index = True)"
   ]
  },
  {
   "cell_type": "code",
   "execution_count": null,
   "metadata": {
    "collapsed": true
   },
   "outputs": [],
   "source": [
    "df_all = shuffler(df_all)"
   ]
  },
  {
   "cell_type": "code",
   "execution_count": null,
   "metadata": {},
   "outputs": [],
   "source": [
    "#Sample some instances from the dataset \n",
    "test_set = df_pt1.sample(frac=0.001, random_state=1)\n",
    "test_set = test_set.append(df_xc1.sample(frac=0.001, random_state=1))\n",
    "#test_set = shuffler(test_set)\n",
    "print(test_set.shape)"
   ]
  },
  {
   "cell_type": "code",
   "execution_count": null,
   "metadata": {
    "collapsed": true
   },
   "outputs": [],
   "source": [
    "train_x = pd.DataFrame(df_all.iloc[:, 0:115])\n",
    "train_y = pd.DataFrame(df_all.iloc[:, 115])\n",
    "test_x = pd.DataFrame(test_set.iloc[:, 0:115])\n",
    "test_y = pd.DataFrame(test_set.iloc[:, 115])"
   ]
  },
  {
   "cell_type": "code",
   "execution_count": null,
   "metadata": {
    "collapsed": true
   },
   "outputs": [],
   "source": [
    "train_x = normalize(train_x)\n",
    "test_x = normalize(test_x)"
   ]
  },
  {
   "cell_type": "code",
   "execution_count": null,
   "metadata": {},
   "outputs": [],
   "source": [
    "train_y = label_encoder(train_y)\n",
    "test_y = label_encoder(test_y)"
   ]
  },
  {
   "cell_type": "code",
   "execution_count": null,
   "metadata": {},
   "outputs": [],
   "source": [
    "test_y"
   ]
  },
  {
   "cell_type": "code",
   "execution_count": null,
   "metadata": {
    "collapsed": true
   },
   "outputs": [],
   "source": [
    "train_x = torch.FloatTensor(train_x.values.astype(np.float32))\n",
    "test_x = torch.tensor(test_x.values.astype(np.float32))\n",
    "train_y = torch.tensor(train_y.astype(np.float32))\n",
    "test_y = torch.tensor(test_y.astype(np.float32))"
   ]
  },
  {
   "cell_type": "markdown",
   "metadata": {},
   "source": [
    "## Prepare for the NN"
   ]
  },
  {
   "cell_type": "code",
   "execution_count": null,
   "metadata": {
    "collapsed": true
   },
   "outputs": [],
   "source": [
    "df_all = df_pt1\n",
    "df_all = df_all.append(df_pt2, ignore_index = True)"
   ]
  },
  {
   "cell_type": "code",
   "execution_count": null,
   "metadata": {
    "collapsed": true
   },
   "outputs": [],
   "source": [
    "df_all = shuffler(df_all)"
   ]
  },
  {
   "cell_type": "code",
   "execution_count": null,
   "metadata": {
    "collapsed": true
   },
   "outputs": [],
   "source": [
    "#Divide dataframe into x and y\n",
    "df_x = pd.DataFrame(df_all.iloc[:, 0:115])\n",
    "df_y = pd.DataFrame(df_all.iloc[:, 115])\n",
    "df_pt2_x = pd.DataFrame(df_pt2.iloc[:, 0:115])\n",
    "df_pt2_y = pd.DataFrame(df_pt2.iloc[:, 115])\n",
    "df_xc_x = pd.DataFrame(df_xc1.iloc[:, 0:115])\n",
    "df_xc_y = pd.DataFrame(df_xc1.iloc[:, 115])\n",
    "df_xc2_x = pd.DataFrame(df_xc2.iloc[:, 0:115])\n",
    "df_xc2_y = pd.DataFrame(df_xc2.iloc[:, 115])"
   ]
  },
  {
   "cell_type": "code",
   "execution_count": null,
   "metadata": {
    "collapsed": true
   },
   "outputs": [],
   "source": [
    "#Normalize the x dataframe\n",
    "df_x = normalize(df_x)\n",
    "df_pt2 = normalize(df_pt2_x)\n",
    "df_xc = normalize(df_xc_x)\n",
    "df_xc2 = normalize(df_xc2_x)"
   ]
  },
  {
   "cell_type": "code",
   "execution_count": null,
   "metadata": {
    "collapsed": true
   },
   "outputs": [],
   "source": [
    "#One-Hot encoding labels and transform into array\n",
    "df_y = label_encoder(df_y)"
   ]
  },
  {
   "cell_type": "code",
   "execution_count": null,
   "metadata": {
    "collapsed": true
   },
   "outputs": [],
   "source": [
    "# Divide dataset into training set and testing set\n",
    "from sklearn.model_selection import train_test_split\n",
    "train_x, test_x, train_y, test_y = train_test_split(df_x, df_y, test_size=0.40)"
   ]
  },
  {
   "cell_type": "markdown",
   "metadata": {},
   "source": [
    "## Neural Network"
   ]
  },
  {
   "cell_type": "code",
   "execution_count": null,
   "metadata": {
    "collapsed": true
   },
   "outputs": [],
   "source": [
    "class Net(torch.nn.Module):\n",
    "    def __init__(self, in_dim, h_dim, out_dim):\n",
    "        super(Net, self).__init__()\n",
    "        self.linear1 = torch.nn.Linear(in_dim, h_dim)\n",
    "        self.bn1 = nn.BatchNorm1d(h_dim)\n",
    "        self.linear2 = torch.nn.Linear(h_dim, out_dim)\n",
    "        \n",
    "    def forward(self, x):\n",
    "        h_relu = self.linear1(x).clamp(min=0)\n",
    "        y_pred = self.linear2(h_relu)\n",
    "        return y_pred"
   ]
  },
  {
   "cell_type": "code",
   "execution_count": null,
   "metadata": {
    "collapsed": true
   },
   "outputs": [],
   "source": [
    "train_x = torch.FloatTensor(train_x.values.astype(np.float32))\n",
    "test_x = torch.tensor(test_x.values.astype(np.float32))\n",
    "train_y = torch.tensor(train_y.astype(np.float32))\n",
    "test_y = torch.tensor(test_y.astype(np.float32))\n",
    "xc_x = torch.tensor(df_xc.values.astype(np.float32))\n",
    "pt2_x = torch.tensor(df_pt2.values.astype(np.float32))"
   ]
  },
  {
   "cell_type": "code",
   "execution_count": null,
   "metadata": {
    "collapsed": true
   },
   "outputs": [],
   "source": [
    "train_x.shape"
   ]
  },
  {
   "cell_type": "code",
   "execution_count": null,
   "metadata": {
    "collapsed": true
   },
   "outputs": [],
   "source": [
    "test_x.shape"
   ]
  },
  {
   "cell_type": "code",
   "execution_count": null,
   "metadata": {
    "collapsed": true
   },
   "outputs": [],
   "source": [
    "test_y.shape"
   ]
  },
  {
   "cell_type": "code",
   "execution_count": null,
   "metadata": {
    "collapsed": true
   },
   "outputs": [],
   "source": [
    "epochs = 600\n",
    "input_dim = 115\n",
    "output_dim = 2 #Number of clasees\n",
    "h_dim = 100\n",
    "lr_rate = 1e-6"
   ]
  },
  {
   "cell_type": "code",
   "execution_count": null,
   "metadata": {
    "collapsed": true
   },
   "outputs": [],
   "source": [
    "model = Net(input_dim, h_dim, output_dim)\n",
    "criterion = torch.nn.MSELoss(reduction='sum')\n",
    "optimizer = torch.optim.SGD(model.parameters(), lr=lr_rate)"
   ]
  },
  {
   "cell_type": "code",
   "execution_count": null,
   "metadata": {
    "collapsed": true
   },
   "outputs": [],
   "source": [
    "n_test, y_bm = test_y.shape"
   ]
  },
  {
   "cell_type": "code",
   "execution_count": null,
   "metadata": {
    "collapsed": true
   },
   "outputs": [],
   "source": [
    "def training(epochs, model, train_data, labels, vali_data, target):\n",
    "    for e in range(int(epochs)):\n",
    "        y_pred = model(train_data)\n",
    "        # Compute and print loss\n",
    "        loss = criterion(y_pred, labels)\n",
    "        if e % 100 == 99:\n",
    "            loss_f = float(loss)\n",
    "            print(e, \"Loss:\", loss_f)\n",
    "            total = n_test\n",
    "            correct = 0.0\n",
    "            outputs = model(vali_data)\n",
    "            _b, pred = torch.max(outputs, 1)\n",
    "            vb, label = torch.max(target, 1)\n",
    "            correct+= float((pred == label).sum())\n",
    "            accuracy = float(100*(correct/total))\n",
    "            print('Accuracy: {:.4f}'.format(accuracy))\n",
    "\n",
    "        # Zero gradients, perform a backward pass, and update the weights.\n",
    "        optimizer.zero_grad()\n",
    "        loss.backward()\n",
    "        optimizer.step()"
   ]
  },
  {
   "cell_type": "code",
   "execution_count": null,
   "metadata": {
    "collapsed": true
   },
   "outputs": [],
   "source": [
    "training(epochs, model, train_x, train_y, test_x, test_y) ## Train the initial model on Server"
   ]
  },
  {
   "cell_type": "markdown",
   "metadata": {},
   "source": [
    "## OMP"
   ]
  },
  {
   "cell_type": "code",
   "execution_count": null,
   "metadata": {
    "collapsed": true
   },
   "outputs": [],
   "source": [
    "def maxind(V, r):\n",
    "    res=[]\n",
    "    for row in V:\n",
    "        l2 = np.linalg.norm(row)\n",
    "        row = row.unsqueeze(1)\n",
    "        row = torch.transpose(row,0,1)       \n",
    "        row = row.squeeze(0)\n",
    "        r = r.squeeze(0)\n",
    "        inner = float(torch.dot(row, r))\n",
    "        s = float(inner/l2)\n",
    "        res.append(s)\n",
    "        res_tensor = torch.FloatTensor(res)\n",
    "    \n",
    "    _, i = torch.max(res_tensor, 0)\n",
    "    return i"
   ]
  },
  {
   "cell_type": "code",
   "execution_count": null,
   "metadata": {
    "collapsed": true
   },
   "outputs": [],
   "source": [
    "## Note: The vector(row) picked from the matrix cannot be re-sized directly.\n",
    "## y is expected as 2D matrix\n",
    "def OMP(y, V, sl, ep):\n",
    "    c_encode = torch.zeros([1, len(V)], dtype=torch.float32)\n",
    "    s_index = []\n",
    "    r = y\n",
    "    k = 1\n",
    "    while (k <= sl) and (np.linalg.norm(r) >= ep):\n",
    "        i = int(maxind(V, r))\n",
    "        s_index.append(i)\n",
    "        temp = []\n",
    "        for sk in s_index:\n",
    "            temp_v = V[sk]\n",
    "            if len(temp)==0:\n",
    "                temp=temp_v\n",
    "                temp = temp.unsqueeze(0)\n",
    "            else:\n",
    "                temp_v = V[sk].unsqueeze(0)\n",
    "                temp = torch.cat((temp, temp_v),0)\n",
    "               \n",
    "        \n",
    "        s_matrix = temp\n",
    "        s_matrix = s_matrix.type(torch.FloatTensor)\n",
    "        s_i = torch.pinverse(s_matrix)\n",
    "        c = torch.mm(y, s_i)\n",
    "        r = y - torch.mm(c, s_matrix)\n",
    "        k = k+1\n",
    "    \n",
    "    print(s_index)\n",
    "    v=0\n",
    "    for sk in s_index:\n",
    "        c_encode[0][sk] = c[0][v]\n",
    "        v = v+1\n",
    "    return c_encode"
   ]
  },
  {
   "cell_type": "code",
   "execution_count": null,
   "metadata": {
    "collapsed": true
   },
   "outputs": [],
   "source": [
    "OMP(b, a, 20, 0.1)"
   ]
  },
  {
   "cell_type": "code",
   "execution_count": null,
   "metadata": {
    "collapsed": true
   },
   "outputs": [],
   "source": [
    "y = test_x[5][:].unsqueeze(0)"
   ]
  },
  {
   "cell_type": "code",
   "execution_count": null,
   "metadata": {
    "collapsed": true
   },
   "outputs": [],
   "source": [
    "c = OMP(y, train_x[:300][:], 10, 0.001)"
   ]
  },
  {
   "cell_type": "code",
   "execution_count": null,
   "metadata": {
    "collapsed": true
   },
   "outputs": [],
   "source": [
    "t = y - torch.mm(c, train_x[:300][:])\n",
    "print(np.linalg.norm(t))"
   ]
  },
  {
   "cell_type": "code",
   "execution_count": null,
   "metadata": {},
   "outputs": [],
   "source": [
    "def projecting(train, test, size, sp, ep, threshold):\n",
    "    re = torch.zeros([len(test), 2], dtype=torch.float32)\n",
    "    for ids, vector in enumerate(test):\n",
    "        v = vector.unsqueeze(0)\n",
    "        c = OMP(v, train[:size][:], sp, ep)\n",
    "        t = v - torch.mm(c, train[:size][:])\n",
    "        distance = np.linalg.norm(t)\n",
    "        print(\"id:\", ids, \"dist:\",distance)\n",
    "        if distance < threshold:\n",
    "            re[ids][0] = 1.0\n",
    "        else:\n",
    "            re[ids][1] = 1.0\n",
    "    print(re)"
   ]
  },
  {
   "cell_type": "code",
   "execution_count": null,
   "metadata": {},
   "outputs": [],
   "source": [
    "total = len(test_x)\n",
    "correct = 0.0\n",
    "_, pred = torch.max(re, 1)\n",
    "v, label = torch.max(test_y, 1)\n",
    "correct+= float((pred == label).sum())\n",
    "accuracy = float(100*(correct/total))\n",
    "print('Accuracy: {:.4f}'.format(accuracy))"
   ]
  },
  {
   "cell_type": "code",
   "execution_count": null,
   "metadata": {
    "collapsed": true
   },
   "outputs": [],
   "source": []
  }
 ],
 "metadata": {
  "kernelspec": {
   "display_name": "Python [conda env:Pysyft] *",
   "language": "python",
   "name": "conda-env-Pysyft-py"
  },
  "language_info": {
   "codemirror_mode": {
    "name": "ipython",
    "version": 3
   },
   "file_extension": ".py",
   "mimetype": "text/x-python",
   "name": "python",
   "nbconvert_exporter": "python",
   "pygments_lexer": "ipython3",
   "version": "3.6.3"
  }
 },
 "nbformat": 4,
 "nbformat_minor": 2
}
